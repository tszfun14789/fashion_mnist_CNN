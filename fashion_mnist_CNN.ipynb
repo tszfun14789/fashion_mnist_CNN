{
 "cells": [
  {
   "cell_type": "code",
   "execution_count": 1,
   "id": "f0fd162d",
   "metadata": {},
   "outputs": [],
   "source": [
    "import tensorflow as tf\n",
    "import numpy as np\n",
    "import matplotlib.pyplot as plt"
   ]
  },
  {
   "cell_type": "code",
   "execution_count": 2,
   "id": "eee7f7a2",
   "metadata": {},
   "outputs": [],
   "source": [
    "fashionmnist = tf.keras.datasets.fashion_mnist"
   ]
  },
  {
   "cell_type": "code",
   "execution_count": 3,
   "id": "04e6da55",
   "metadata": {},
   "outputs": [],
   "source": [
    "(training_images, training_labels), (test_images, test_labels) = fashionmnist.load_data()"
   ]
  },
  {
   "cell_type": "code",
   "execution_count": 4,
   "id": "4c499435",
   "metadata": {},
   "outputs": [
    {
     "name": "stdout",
     "output_type": "stream",
     "text": [
      "LABEL: 7\n",
      "\n",
      "IMAGE PIXEL ARRAY:\n",
      " [[  0   0   0   0   0   0   0   0   0   0   0   0   0   0   0   0   0   0   0   0   0   0   0   0   0   0   0   0]\n",
      " [  0   0   0   0   0   0   0   0   0   0   0   0   0   0   0   0   0   0   0   0   0   0   0   0   0   0   0   0]\n",
      " [  0   0   0   0   0   0   0   0   0   0   0   0   0   0   0   0   0   0   0   0   0   0   0   0   0   0   0   0]\n",
      " [  0   0   0   0   0   0   0   0   0   0   0   0   0   0   0   0   0   0   0   0   0   0   0   0   0   0   0   0]\n",
      " [  0   0   0   0   0   0   0   0   0   0   0   0   0   0   0   0   0   0   0   0   0   0   0   0   0   0   0   0]\n",
      " [  0   0   0   0   0   0   0   0   0   0   0   0   0   0   0   0   0  58  34   0   0   0   2   2   0   5   2   0]\n",
      " [  0   0   0   0   0   0   0   0   0   0   0   0   0   0   2   0  12 139 162  44   0   0   0   0   0   0   0   0]\n",
      " [  0   0   0   0   0   0   0   0   0   0   0   0   0   0   2   0 122 119 135 174 127   6  40  60  81  76  11   0]\n",
      " [  0   0   0   0   0   0   0   0   0   0   0   0   0   2   0   0 169  94 153 179 177 172 215 188 183 155  18   0]\n",
      " [  0   0   0   0   0   0   0   0   0   0   0   0   0   5   0  42 163  72 174 189 173 182 157 160 166 141   0   0]\n",
      " [  0   0   0   0   0   0   0   0   0   0   0   0   0   0   0 101 106  97 188 173 189 160 163 172 163 161   0   0]\n",
      " [  0   0   0   0   0   0   0   0   0   0   0   0   0   0  33 120  45 142 182 192 169 134 159 146 162 179   0   0]\n",
      " [  0   0   0   0   0   0   0   0   1   2   0   0   0   1 147 115  69 192 173 174 129 156 165 157 157 177   4   0]\n",
      " [  0   0   0   0   0   0   1   0   0   0   1   2   0 121 186 109 152 225 181 135 173 155 154 185 162 203  27   0]\n",
      " [  0   0   0   0   0   0   0   0   0   3   0   0  45 185 111 122 255 220 118 162 173 128 138 138 124 139  18   0]\n",
      " [  0   0   0   0   0   0   0   1   0   0   0  72 109  99 132 188 174 170 161 178 157 154 147 128 106 143  74   0]\n",
      " [  1   0   0   0   1   2   2   0   0  24 107 134  93 125 197 172 152 181 190 160 162 145 155 145 121 117 102   0]\n",
      " [  0   1   1   1   0   0   0  16 103 155  56  38 187 210 142 136  83 115 180 148 143 145 142 135 115 115 116   0]\n",
      " [  1   0   0   0   0   0  57 142 107  75 151 191 169 108 137 139 148 144 148 159 146 132 121 130 132 103 122  14]\n",
      " [  0   0  19  50  59  90 118  42  50 156 169 133 109 111 122 160 215 170 137 159 144 143 150 154 164 136 160  30]\n",
      " [  5 138 126 117 110 109 112 103 124 130 124 148 151 141 156 183 185 166 165 168 156 152 136 117 101 109 103  15]\n",
      " [ 31  69  76  81  81  92  89  80  77  74  77  78  78  75  67  58  62  50  42  48  53  45  86  82 109  46  45  40]\n",
      " [ 15  80  60  59  53  28  58 113  19  25  21  25  24  25  30  39  53  64  78  77  81  84 181 157 177 108  75  28]\n",
      " [  0   1  18  28  33  42  45  72  54  76  74  77  82  75  63  48  36  37  44  33  29  20   0   0   0   3   2   0]\n",
      " [  0   0   0   0   0   0   0   0   0   0   0   0   0   0   0   0   0   0   0   0   0   0   0   0   0   0   0   0]\n",
      " [  0   0   0   0   0   0   0   0   0   0   0   0   0   0   0   0   0   0   0   0   0   0   0   0   0   0   0   0]\n",
      " [  0   0   0   0   0   0   0   0   0   0   0   0   0   0   0   0   0   0   0   0   0   0   0   0   0   0   0   0]\n",
      " [  0   0   0   0   0   0   0   0   0   0   0   0   0   0   0   0   0   0   0   0   0   0   0   0   0   0   0   0]]\n"
     ]
    },
    {
     "data": {
      "text/plain": [
       "<matplotlib.image.AxesImage at 0x16b268250>"
      ]
     },
     "execution_count": 4,
     "metadata": {},
     "output_type": "execute_result"
    },
    {
     "data": {
      "image/png": "[encoded data removed]",
      "text/plain": [
       "<Figure size 640x480 with 1 Axes>"
      ]
     },
     "metadata": {},
     "output_type": "display_data"
    }
   ],
   "source": [
    "index = 1123\n",
    "\n",
    "# Set number of characters per row when printing\n",
    "np.set_printoptions(linewidth=320)\n",
    "\n",
    "# Print the label and image\n",
    "print(f'LABEL: {training_labels[index]}')\n",
    "print(f'\\nIMAGE PIXEL ARRAY:\\n {training_images[index]}')\n",
    "\n",
    "# Visualize the image\n",
    "plt.imshow(training_images[index])"
   ]
  },
  {
   "cell_type": "code",
   "execution_count": 5,
   "id": "2c439e08",
   "metadata": {},
   "outputs": [],
   "source": [
    "# Normalize the pixel values of the train and test images\n",
    "training_images = np.reshape(training_images, (training_images.shape[0],28,28,1))\n",
    "test_images = np.reshape(test_images, (test_images.shape[0],28,28,1))\n",
    "\n",
    "\n",
    "training_images  = training_images / 255.0\n",
    "test_images = test_images / 255.0"
   ]
  },
  {
   "cell_type": "code",
   "execution_count": 6,
   "id": "e9a24323",
   "metadata": {},
   "outputs": [],
   "source": [
    "def convolutional_model():\n",
    "    ### START CODE HERE\n",
    "\n",
    "    # Define the model\n",
    "    model = tf.keras.models.Sequential([\n",
    "          tf.keras.layers.Conv2D(32, (3,3), activation='relu', input_shape=(28, 28, 1)),\n",
    "          tf.keras.layers.MaxPooling2D(2, 2),\n",
    "          tf.keras.layers.Conv2D(32, (3,3), activation='relu'),\n",
    "          tf.keras.layers.MaxPooling2D(2,2),\n",
    "\n",
    "          tf.keras.layers.Flatten(),\n",
    "          tf.keras.layers.Dense(128, activation='relu'),\n",
    "          tf.keras.layers.Dense(10, activation='softmax')\n",
    "      \n",
    "      \n",
    "      \n",
    "      \n",
    "    ])\n",
    "    ### END CODE HERE\n",
    "\n",
    "    # Compile the model\n",
    "    model.compile(optimizer='adam',\n",
    "                  loss='sparse_categorical_crossentropy',\n",
    "                  metrics=['accuracy'])\n",
    "        \n",
    "    return model"
   ]
  },
  {
   "cell_type": "code",
   "execution_count": 7,
   "id": "77f779cf",
   "metadata": {},
   "outputs": [],
   "source": [
    "# using callback to stop the training once the accuracy reached 99.5%\n",
    "class myCallback(tf.keras.callbacks.Callback):\n",
    "    # Define the method that checks the accuracy at the end of each epoch\n",
    "    def on_epoch_end(self, spoch, logs ={}):\n",
    "        if(logs.get('accuracy') >= 0.995):\n",
    "            print(\"\\nReached 99.5% accuracy so cancelling training\")\n",
    "            self.model.stop_training = True\n",
    "    pass\n"
   ]
  },
  {
   "cell_type": "code",
   "execution_count": 8,
   "id": "d7262ed1",
   "metadata": {},
   "outputs": [
    {
     "name": "stdout",
     "output_type": "stream",
     "text": [
      "Epoch 1/10\n",
      "1875/1875 [==============================] - 9s 5ms/step - loss: 0.4809 - accuracy: 0.8246\n",
      "Epoch 2/10\n",
      "1875/1875 [==============================] - 8s 4ms/step - loss: 0.3230 - accuracy: 0.8825\n",
      "Epoch 3/10\n",
      "1875/1875 [==============================] - 8s 4ms/step - loss: 0.2773 - accuracy: 0.8977\n",
      "Epoch 4/10\n",
      "1875/1875 [==============================] - 8s 4ms/step - loss: 0.2484 - accuracy: 0.9081\n",
      "Epoch 5/10\n",
      "1875/1875 [==============================] - 8s 4ms/step - loss: 0.2222 - accuracy: 0.9173\n",
      "Epoch 6/10\n",
      "1875/1875 [==============================] - 8s 4ms/step - loss: 0.2038 - accuracy: 0.9236\n",
      "Epoch 7/10\n",
      "1875/1875 [==============================] - 8s 4ms/step - loss: 0.1866 - accuracy: 0.9291\n",
      "Epoch 8/10\n",
      "1875/1875 [==============================] - 9s 5ms/step - loss: 0.1711 - accuracy: 0.9356\n",
      "Epoch 9/10\n",
      "1875/1875 [==============================] - 8s 4ms/step - loss: 0.1565 - accuracy: 0.9412\n",
      "Epoch 10/10\n",
      "1875/1875 [==============================] - 8s 4ms/step - loss: 0.1425 - accuracy: 0.9462\n"
     ]
    },
    {
     "data": {
      "text/plain": [
       "<keras.src.callbacks.History at 0x16b362910>"
      ]
     },
     "execution_count": 8,
     "metadata": {},
     "output_type": "execute_result"
    }
   ],
   "source": [
    "callbacks = myCallback()\n",
    "model = convolutional_model()\n",
    "model.fit(training_images, training_labels, epochs=10, callbacks = [callbacks])"
   ]
  },
  {
   "cell_type": "code",
   "execution_count": 9,
   "id": "600aafa6",
   "metadata": {},
   "outputs": [
    {
     "name": "stdout",
     "output_type": "stream",
     "text": [
      "313/313 [==============================] - 1s 1ms/step - loss: 0.2797 - accuracy: 0.9090\n"
     ]
    },
    {
     "data": {
      "text/plain": [
       "[0.27966147661209106, 0.9089999794960022]"
      ]
     },
     "execution_count": 9,
     "metadata": {},
     "output_type": "execute_result"
    }
   ],
   "source": [
    "model.evaluate(test_images, test_labels)"
   ]
  },
  {
   "cell_type": "code",
   "execution_count": null,
   "id": "69017e79",
   "metadata": {},
   "outputs": [],
   "source": []
  }
 ],
 "metadata": {
  "kernelspec": {
   "display_name": "testenv",
   "language": "python",
   "name": "testenv"
  },
  "language_info": {
   "codemirror_mode": {
    "name": "ipython",
    "version": 3
   },
   "file_extension": ".py",
   "mimetype": "text/x-python",
   "name": "python",
   "nbconvert_exporter": "python",
   "pygments_lexer": "ipython3",
   "version": "3.11.8"
  }
 },
 "nbformat": 4,
 "nbformat_minor": 5
}
